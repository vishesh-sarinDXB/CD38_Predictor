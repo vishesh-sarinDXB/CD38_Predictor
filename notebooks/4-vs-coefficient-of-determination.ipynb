{
 "cells": [
  {
   "cell_type": "code",
   "execution_count": 1,
   "metadata": {},
   "outputs": [],
   "source": [
    "from helpers import *"
   ]
  },
  {
   "cell_type": "code",
   "execution_count": 2,
   "metadata": {},
   "outputs": [],
   "source": [
    "_, X_log, y_log, X_log_train, X_log_test, _, y_log_test = getProcessedData(getGOI())\n",
    "\n",
    "X_corr, _, X_test_corr = getCorrAndHighCorrFeatures(X_log, y_log, X_log_train, X_log_test)\n",
    "\n",
    "XGBperm = pd.read_csv('../summary/analysis/CD38_XGB_perm.csv')\n",
    "\n",
    "RFperm = pd.read_csv('../summary/analysis/CD38_RF_perm.csv')\n",
    "\n",
    "X_XGBperm = X_log[XGBperm.loc[:19, 'feature']]\n",
    "X_XGBperm_test = X_log_test[XGBperm.loc[:19, 'feature']]\n",
    "\n",
    "X_RFperm = X_log[RFperm.loc[:19, 'feature']]\n",
    "X_RFperm_test = X_log_test[RFperm.loc[:19, 'feature']]"
   ]
  },
  {
   "cell_type": "code",
   "execution_count": 3,
   "metadata": {},
   "outputs": [],
   "source": [
    "cv_results_xgb, r2_base_xgb, adj_r2_base_xgb = \\\n",
    "getR2AndCVResults('../models/XGB_ALL_PARAMS', X_log, y_log, X_log_test, y_log_test)"
   ]
  },
  {
   "cell_type": "code",
   "execution_count": 4,
   "metadata": {},
   "outputs": [],
   "source": [
    "cv_results_rf, r2_base_rf, adj_r2_base_rf = \\\n",
    "getR2AndCVResults('../models/RF_ALL_PARAMS', X_log, y_log, X_log_test, y_log_test)"
   ]
  },
  {
   "cell_type": "code",
   "execution_count": 5,
   "metadata": {},
   "outputs": [],
   "source": [
    "cv_results_xgb_corr, r2_base_xgb_corr, adj_r2_base_xgb_corr = \\\n",
    "getR2AndCVResults('../models/XGB_TOP20_CORR_PARAMS', X_log[X_corr[:20].index], y_log, \n",
    "                  X_test_corr, y_log_test, numFeatures = 20)"
   ]
  },
  {
   "cell_type": "code",
   "execution_count": 6,
   "metadata": {},
   "outputs": [],
   "source": [
    "cv_results_rf_corr, r2_base_rf_corr, adj_r2_base_rf_corr = \\\n",
    "getR2AndCVResults('../models/RF_TOP20_CORR_PARAMS', X_log[X_corr[:20].index], y_log, \n",
    "                  X_test_corr, y_log_test, numFeatures = 20)"
   ]
  },
  {
   "cell_type": "code",
   "execution_count": 7,
   "metadata": {},
   "outputs": [],
   "source": [
    "cv_results_xgb_xgbperm, r2_base_xgb_xgbperm, adj_r2_base_xgb_xgbperm = \\\n",
    "getR2AndCVResults('../models/XGB_TOP20_XGB_PERM_PARAMS', X_XGBperm, y_log, \n",
    "                  X_XGBperm_test, y_log_test, numFeatures = 20)"
   ]
  },
  {
   "cell_type": "code",
   "execution_count": 8,
   "metadata": {},
   "outputs": [],
   "source": [
    "cv_results_rf_xgbperm, r2_base_rf_xgbperm, adj_r2_base_rf_xgbperm = \\\n",
    "getR2AndCVResults('../models/RF_TOP20_XGB_PERM_PARAMS', X_XGBperm, y_log, \n",
    "                  X_XGBperm_test, y_log_test, numFeatures = 20)"
   ]
  },
  {
   "cell_type": "code",
   "execution_count": 9,
   "metadata": {},
   "outputs": [],
   "source": [
    "cv_results_xgb_rfperm, r2_base_xgb_rfperm, adj_r2_base_xgb_rfperm = \\\n",
    "getR2AndCVResults('../models/XGB_TOP20_RF_PERM_PARAMS', X_RFperm, y_log, \n",
    "                  X_RFperm_test, y_log_test, numFeatures = 20)"
   ]
  },
  {
   "cell_type": "code",
   "execution_count": 10,
   "metadata": {},
   "outputs": [],
   "source": [
    "cv_results_rf_rfperm, r2_base_rf_rfperm, adj_r2_base_rf_rfperm = \\\n",
    "getR2AndCVResults('../models/RF_TOP20_RF_PERM_PARAMS', X_RFperm, y_log, \n",
    "                  X_RFperm_test, y_log_test, numFeatures = 20)"
   ]
  },
  {
   "cell_type": "code",
   "execution_count": 11,
   "metadata": {},
   "outputs": [
    {
     "data": {
      "text/html": [
       "<div>\n",
       "<style scoped>\n",
       "    .dataframe tbody tr th:only-of-type {\n",
       "        vertical-align: middle;\n",
       "    }\n",
       "\n",
       "    .dataframe tbody tr th {\n",
       "        vertical-align: top;\n",
       "    }\n",
       "\n",
       "    .dataframe thead th {\n",
       "        text-align: right;\n",
       "    }\n",
       "</style>\n",
       "<table border=\"1\" class=\"dataframe\">\n",
       "  <thead>\n",
       "    <tr style=\"text-align: right;\">\n",
       "      <th></th>\n",
       "      <th>fit_time</th>\n",
       "      <th>score_time</th>\n",
       "      <th>test_adj_rSquared</th>\n",
       "      <th>test_rSquared</th>\n",
       "      <th>test_mae</th>\n",
       "    </tr>\n",
       "  </thead>\n",
       "  <tbody>\n",
       "    <tr>\n",
       "      <th>0</th>\n",
       "      <td>0.127646</td>\n",
       "      <td>0.005349</td>\n",
       "      <td>0.470872</td>\n",
       "      <td>0.545005</td>\n",
       "      <td>-0.439148</td>\n",
       "    </tr>\n",
       "    <tr>\n",
       "      <th>1</th>\n",
       "      <td>0.126830</td>\n",
       "      <td>0.005280</td>\n",
       "      <td>0.303400</td>\n",
       "      <td>0.400995</td>\n",
       "      <td>-0.454130</td>\n",
       "    </tr>\n",
       "    <tr>\n",
       "      <th>2</th>\n",
       "      <td>0.121532</td>\n",
       "      <td>0.005245</td>\n",
       "      <td>0.430748</td>\n",
       "      <td>0.510502</td>\n",
       "      <td>-0.483392</td>\n",
       "    </tr>\n",
       "    <tr>\n",
       "      <th>3</th>\n",
       "      <td>0.120718</td>\n",
       "      <td>0.005132</td>\n",
       "      <td>0.415382</td>\n",
       "      <td>0.497289</td>\n",
       "      <td>-0.509363</td>\n",
       "    </tr>\n",
       "    <tr>\n",
       "      <th>4</th>\n",
       "      <td>0.122725</td>\n",
       "      <td>0.005250</td>\n",
       "      <td>0.387161</td>\n",
       "      <td>0.473021</td>\n",
       "      <td>-0.477366</td>\n",
       "    </tr>\n",
       "  </tbody>\n",
       "</table>\n",
       "</div>"
      ],
      "text/plain": [
       "   fit_time  score_time  test_adj_rSquared  test_rSquared  test_mae\n",
       "0  0.127646    0.005349           0.470872       0.545005 -0.439148\n",
       "1  0.126830    0.005280           0.303400       0.400995 -0.454130\n",
       "2  0.121532    0.005245           0.430748       0.510502 -0.483392\n",
       "3  0.120718    0.005132           0.415382       0.497289 -0.509363\n",
       "4  0.122725    0.005250           0.387161       0.473021 -0.477366"
      ]
     },
     "execution_count": 11,
     "metadata": {},
     "output_type": "execute_result"
    }
   ],
   "source": [
    "pd.DataFrame(cv_results_xgb)"
   ]
  },
  {
   "cell_type": "code",
   "execution_count": 12,
   "metadata": {},
   "outputs": [
    {
     "data": {
      "text/html": [
       "<div>\n",
       "<style scoped>\n",
       "    .dataframe tbody tr th:only-of-type {\n",
       "        vertical-align: middle;\n",
       "    }\n",
       "\n",
       "    .dataframe tbody tr th {\n",
       "        vertical-align: top;\n",
       "    }\n",
       "\n",
       "    .dataframe thead th {\n",
       "        text-align: right;\n",
       "    }\n",
       "</style>\n",
       "<table border=\"1\" class=\"dataframe\">\n",
       "  <thead>\n",
       "    <tr style=\"text-align: right;\">\n",
       "      <th></th>\n",
       "      <th>fit_time</th>\n",
       "      <th>score_time</th>\n",
       "      <th>test_adj_rSquared</th>\n",
       "      <th>test_rSquared</th>\n",
       "      <th>test_mae</th>\n",
       "    </tr>\n",
       "  </thead>\n",
       "  <tbody>\n",
       "    <tr>\n",
       "      <th>count</th>\n",
       "      <td>5.000000</td>\n",
       "      <td>5.000000</td>\n",
       "      <td>5.000000</td>\n",
       "      <td>5.000000</td>\n",
       "      <td>5.000000</td>\n",
       "    </tr>\n",
       "    <tr>\n",
       "      <th>mean</th>\n",
       "      <td>0.123890</td>\n",
       "      <td>0.005251</td>\n",
       "      <td>0.401513</td>\n",
       "      <td>0.485362</td>\n",
       "      <td>-0.472680</td>\n",
       "    </tr>\n",
       "    <tr>\n",
       "      <th>std</th>\n",
       "      <td>0.003151</td>\n",
       "      <td>0.000078</td>\n",
       "      <td>0.062630</td>\n",
       "      <td>0.053855</td>\n",
       "      <td>0.027161</td>\n",
       "    </tr>\n",
       "    <tr>\n",
       "      <th>min</th>\n",
       "      <td>0.120718</td>\n",
       "      <td>0.005132</td>\n",
       "      <td>0.303400</td>\n",
       "      <td>0.400995</td>\n",
       "      <td>-0.509363</td>\n",
       "    </tr>\n",
       "    <tr>\n",
       "      <th>25%</th>\n",
       "      <td>0.121532</td>\n",
       "      <td>0.005245</td>\n",
       "      <td>0.387161</td>\n",
       "      <td>0.473021</td>\n",
       "      <td>-0.483392</td>\n",
       "    </tr>\n",
       "    <tr>\n",
       "      <th>50%</th>\n",
       "      <td>0.122725</td>\n",
       "      <td>0.005250</td>\n",
       "      <td>0.415382</td>\n",
       "      <td>0.497289</td>\n",
       "      <td>-0.477366</td>\n",
       "    </tr>\n",
       "    <tr>\n",
       "      <th>75%</th>\n",
       "      <td>0.126830</td>\n",
       "      <td>0.005280</td>\n",
       "      <td>0.430748</td>\n",
       "      <td>0.510502</td>\n",
       "      <td>-0.454130</td>\n",
       "    </tr>\n",
       "    <tr>\n",
       "      <th>max</th>\n",
       "      <td>0.127646</td>\n",
       "      <td>0.005349</td>\n",
       "      <td>0.470872</td>\n",
       "      <td>0.545005</td>\n",
       "      <td>-0.439148</td>\n",
       "    </tr>\n",
       "  </tbody>\n",
       "</table>\n",
       "</div>"
      ],
      "text/plain": [
       "       fit_time  score_time  test_adj_rSquared  test_rSquared  test_mae\n",
       "count  5.000000    5.000000           5.000000       5.000000  5.000000\n",
       "mean   0.123890    0.005251           0.401513       0.485362 -0.472680\n",
       "std    0.003151    0.000078           0.062630       0.053855  0.027161\n",
       "min    0.120718    0.005132           0.303400       0.400995 -0.509363\n",
       "25%    0.121532    0.005245           0.387161       0.473021 -0.483392\n",
       "50%    0.122725    0.005250           0.415382       0.497289 -0.477366\n",
       "75%    0.126830    0.005280           0.430748       0.510502 -0.454130\n",
       "max    0.127646    0.005349           0.470872       0.545005 -0.439148"
      ]
     },
     "execution_count": 12,
     "metadata": {},
     "output_type": "execute_result"
    }
   ],
   "source": [
    "pd.DataFrame(cv_results_xgb).describe()"
   ]
  },
  {
   "cell_type": "code",
   "execution_count": 25,
   "metadata": {},
   "outputs": [],
   "source": [
    "r2 = pd.DataFrame({'xgb': [r2_base_xgb, r2_base_xgb_corr, r2_base_xgb_rfperm, r2_base_xgb_xgbperm], \n",
    "                    'rf': [r2_base_rf, r2_base_rf_corr, r2_base_rf_rfperm, r2_base_rf_xgbperm]})"
   ]
  },
  {
   "cell_type": "code",
   "execution_count": 15,
   "metadata": {},
   "outputs": [],
   "source": [
    "adj_r2 = pd.DataFrame({'xgb': [adj_r2_base_xgb, adj_r2_base_xgb_corr, adj_r2_base_xgb_rfperm, adj_r2_base_xgb_xgbperm], \n",
    "                       'rf': [adj_r2_base_rf, adj_r2_base_rf_corr, adj_r2_base_rf_rfperm, adj_r2_base_rf_xgbperm]})"
   ]
  },
  {
   "cell_type": "code",
   "execution_count": 30,
   "metadata": {},
   "outputs": [],
   "source": [
    "r2.index = ['all_tf', 't20_corr', 't20_RF_perm', 't20_XGB_perm']\n",
    "adj_r2.index = ['all_tf', 't20_corr', 't20_RF_perm', 't20_XGB_perm']"
   ]
  },
  {
   "cell_type": "code",
   "execution_count": 32,
   "metadata": {},
   "outputs": [],
   "source": [
    "r2.to_csv('../summary/analysis/CD38_R2.csv')"
   ]
  },
  {
   "cell_type": "code",
   "execution_count": 33,
   "metadata": {},
   "outputs": [],
   "source": [
    "adj_r2.to_csv('../summary/analysis/CD38_ADJ_R2.csv')"
   ]
  }
 ],
 "metadata": {
  "kernelspec": {
   "display_name": "Python 3",
   "language": "python",
   "name": "python3"
  },
  "language_info": {
   "codemirror_mode": {
    "name": "ipython",
    "version": 3
   },
   "file_extension": ".py",
   "mimetype": "text/x-python",
   "name": "python",
   "nbconvert_exporter": "python",
   "pygments_lexer": "ipython3",
   "version": "3.8.2"
  }
 },
 "nbformat": 4,
 "nbformat_minor": 4
}
