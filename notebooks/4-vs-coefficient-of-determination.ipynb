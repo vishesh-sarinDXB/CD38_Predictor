{
 "cells": [
  {
   "cell_type": "code",
   "execution_count": 1,
   "metadata": {},
   "outputs": [],
   "source": [
    "from helpers import *"
   ]
  },
  {
   "cell_type": "code",
   "execution_count": 2,
   "metadata": {},
   "outputs": [],
   "source": [
    "_, X_log, y_log, X_log_train, X_log_test, _, y_log_test = getProcessedData(getGOI())\n",
    "\n",
    "X_corr, _, X_test_corr = getCorrAndHighCorrFeatures(X_log, y_log, X_log_train, X_log_test)\n",
    "\n",
    "XGBperm = pd.read_csv('../summary/analysis/CD38_XGB_perm.csv')\n",
    "\n",
    "RFperm = pd.read_csv('../summary/analysis/CD38_RF_perm.csv')\n",
    "\n",
    "X_XGBperm = X_log[XGBperm.loc[:19, 'feature']]\n",
    "X_XGBperm_test = X_log_test[XGBperm.loc[:19, 'feature']]\n",
    "\n",
    "X_RFperm = X_log[RFperm.loc[:19, 'feature']]\n",
    "X_RFperm_test = X_log_test[RFperm.loc[:19, 'feature']]"
   ]
  },
  {
   "cell_type": "code",
   "execution_count": 3,
   "metadata": {},
   "outputs": [],
   "source": [
    "cv_results_xgb, r2_base_xgb, adj_r2_base_xgb = \\\n",
    "getR2AndCVResults('../models/XGB_ALL_PARAMS', X_log, y_log, X_log_test, y_log_test)"
   ]
  },
  {
   "cell_type": "code",
   "execution_count": 4,
   "metadata": {},
   "outputs": [],
   "source": [
    "cv_results_rf, r2_base_rf, adj_r2_base_rf = \\\n",
    "getR2AndCVResults('../models/RF_ALL_PARAMS', X_log, y_log, X_log_test, y_log_test)"
   ]
  },
  {
   "cell_type": "code",
   "execution_count": 5,
   "metadata": {},
   "outputs": [],
   "source": [
    "cv_results_xgb_corr, r2_base_xgb_corr, adj_r2_base_xgb_corr = \\\n",
    "getR2AndCVResults('../models/XGB_TOP20_CORR_PARAMS', X_log[X_corr[:20].index], y_log, \n",
    "                  X_test_corr, y_log_test, numFeatures = 20)"
   ]
  },
  {
   "cell_type": "code",
   "execution_count": 6,
   "metadata": {},
   "outputs": [],
   "source": [
    "cv_results_rf_corr, r2_base_rf_corr, adj_r2_base_rf_corr = \\\n",
    "getR2AndCVResults('../models/RF_TOP20_CORR_PARAMS', X_log[X_corr[:20].index], y_log, \n",
    "                  X_test_corr, y_log_test, numFeatures = 20)"
   ]
  },
  {
   "cell_type": "code",
   "execution_count": 7,
   "metadata": {},
   "outputs": [],
   "source": [
    "cv_results_xgb_xgbperm, r2_base_xgb_xgbperm, adj_r2_base_xgb_xgbperm = \\\n",
    "getR2AndCVResults('../models/XGB_TOP20_XGB_PERM_PARAMS', X_XGBperm, y_log, \n",
    "                  X_XGBperm_test, y_log_test, numFeatures = 20)"
   ]
  },
  {
   "cell_type": "code",
   "execution_count": 8,
   "metadata": {},
   "outputs": [],
   "source": [
    "cv_results_rf_xgbperm, r2_base_rf_xgbperm, adj_r2_base_rf_xgbperm = \\\n",
    "getR2AndCVResults('../models/RF_TOP20_XGB_PERM_PARAMS', X_XGBperm, y_log, \n",
    "                  X_XGBperm_test, y_log_test, numFeatures = 20)"
   ]
  },
  {
   "cell_type": "code",
   "execution_count": 9,
   "metadata": {},
   "outputs": [],
   "source": [
    "cv_results_xgb_rfperm, r2_base_xgb_rfperm, adj_r2_base_xgb_rfperm = \\\n",
    "getR2AndCVResults('../models/XGB_TOP20_RF_PERM_PARAMS', X_RFperm, y_log, \n",
    "                  X_RFperm_test, y_log_test, numFeatures = 20)"
   ]
  },
  {
   "cell_type": "code",
   "execution_count": 10,
   "metadata": {},
   "outputs": [],
   "source": [
    "cv_results_rf_rfperm, r2_base_rf_rfperm, adj_r2_base_rf_rfperm = \\\n",
    "getR2AndCVResults('../models/RF_TOP20_RF_PERM_PARAMS', X_RFperm, y_log, \n",
    "                  X_RFperm_test, y_log_test, numFeatures = 20)"
   ]
  }
 ],
 "metadata": {
  "kernelspec": {
   "display_name": "Python 3",
   "language": "python",
   "name": "python3"
  },
  "language_info": {
   "codemirror_mode": {
    "name": "ipython",
    "version": 3
   },
   "file_extension": ".py",
   "mimetype": "text/x-python",
   "name": "python",
   "nbconvert_exporter": "python",
   "pygments_lexer": "ipython3",
   "version": "3.8.2"
  }
 },
 "nbformat": 4,
 "nbformat_minor": 4
}
